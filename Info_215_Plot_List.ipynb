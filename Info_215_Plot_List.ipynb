{
  "nbformat": 4,
  "nbformat_minor": 0,
  "metadata": {
    "colab": {
      "name": "Info 215 Plot List.ipynb",
      "version": "0.3.2",
      "provenance": [],
      "collapsed_sections": [],
      "include_colab_link": true
    },
    "kernelspec": {
      "name": "python3",
      "display_name": "Python 3"
    }
  },
  "cells": [
    {
      "cell_type": "markdown",
      "metadata": {
        "id": "view-in-github",
        "colab_type": "text"
      },
      "source": [
        "<a href=\"https://colab.research.google.com/github/amarippili94/InfoVisualization-215/blob/master/Info_215_Plot_List.ipynb\" target=\"_parent\"><img src=\"https://colab.research.google.com/assets/colab-badge.svg\" alt=\"Open In Colab\"/></a>"
      ]
    },
    {
      "cell_type": "code",
      "metadata": {
        "id": "DaDKfE4SaQUk",
        "colab_type": "code",
        "colab": {}
      },
      "source": [
        "#Importing Libraries\n",
        "import pandas as pd\n",
        "import numpy as np\n",
        "import matplotlib.pyplot as plt\n",
        "import seaborn as sns\n",
        "%matplotlib inline"
      ],
      "execution_count": 0,
      "outputs": []
    },
    {
      "cell_type": "code",
      "metadata": {
        "id": "S6NYvixGbQT6",
        "colab_type": "code",
        "outputId": "f24ee0d4-727c-4e3e-f2f7-5a9e53b89471",
        "colab": {
          "base_uri": "https://localhost:8080/",
          "height": 52
        }
      },
      "source": [
        "#1 Code to read csv file into colaboratory:\n",
        "!pip install -U -q PyDrive\n",
        "from pydrive.auth import GoogleAuth\n",
        "from pydrive.drive import GoogleDrive\n",
        "from google.colab import auth\n",
        "from oauth2client.client import GoogleCredentials\n",
        "\n",
        "# 1. Authenticate and create the PyDrive client.\n",
        "auth.authenticate_user()\n",
        "gauth = GoogleAuth()\n",
        "gauth.credentials = GoogleCredentials.get_application_default()\n",
        "drive = GoogleDrive(gauth)"
      ],
      "execution_count": 0,
      "outputs": [
        {
          "output_type": "stream",
          "text": [
            "\u001b[?25l\r\u001b[K     |▎                               | 10kB 16.8MB/s eta 0:00:01\r\u001b[K     |▋                               | 20kB 1.8MB/s eta 0:00:01\r\u001b[K     |█                               | 30kB 2.7MB/s eta 0:00:01\r\u001b[K     |█▎                              | 40kB 1.7MB/s eta 0:00:01\r\u001b[K     |█▋                              | 51kB 2.1MB/s eta 0:00:01\r\u001b[K     |██                              | 61kB 2.5MB/s eta 0:00:01\r\u001b[K     |██▎                             | 71kB 2.9MB/s eta 0:00:01\r\u001b[K     |██▋                             | 81kB 3.3MB/s eta 0:00:01\r\u001b[K     |███                             | 92kB 3.7MB/s eta 0:00:01\r\u001b[K     |███▎                            | 102kB 2.8MB/s eta 0:00:01\r\u001b[K     |███▋                            | 112kB 2.8MB/s eta 0:00:01\r\u001b[K     |████                            | 122kB 2.8MB/s eta 0:00:01\r\u001b[K     |████▎                           | 133kB 2.8MB/s eta 0:00:01\r\u001b[K     |████▋                           | 143kB 2.8MB/s eta 0:00:01\r\u001b[K     |█████                           | 153kB 2.8MB/s eta 0:00:01\r\u001b[K     |█████▎                          | 163kB 2.8MB/s eta 0:00:01\r\u001b[K     |█████▋                          | 174kB 2.8MB/s eta 0:00:01\r\u001b[K     |██████                          | 184kB 2.8MB/s eta 0:00:01\r\u001b[K     |██████▎                         | 194kB 2.8MB/s eta 0:00:01\r\u001b[K     |██████▋                         | 204kB 2.8MB/s eta 0:00:01\r\u001b[K     |███████                         | 215kB 2.8MB/s eta 0:00:01\r\u001b[K     |███████▎                        | 225kB 2.8MB/s eta 0:00:01\r\u001b[K     |███████▋                        | 235kB 2.8MB/s eta 0:00:01\r\u001b[K     |████████                        | 245kB 2.8MB/s eta 0:00:01\r\u001b[K     |████████▎                       | 256kB 2.8MB/s eta 0:00:01\r\u001b[K     |████████▋                       | 266kB 2.8MB/s eta 0:00:01\r\u001b[K     |█████████                       | 276kB 2.8MB/s eta 0:00:01\r\u001b[K     |█████████▎                      | 286kB 2.8MB/s eta 0:00:01\r\u001b[K     |█████████▋                      | 296kB 2.8MB/s eta 0:00:01\r\u001b[K     |██████████                      | 307kB 2.8MB/s eta 0:00:01\r\u001b[K     |██████████▎                     | 317kB 2.8MB/s eta 0:00:01\r\u001b[K     |██████████▋                     | 327kB 2.8MB/s eta 0:00:01\r\u001b[K     |███████████                     | 337kB 2.8MB/s eta 0:00:01\r\u001b[K     |███████████▎                    | 348kB 2.8MB/s eta 0:00:01\r\u001b[K     |███████████▋                    | 358kB 2.8MB/s eta 0:00:01\r\u001b[K     |████████████                    | 368kB 2.8MB/s eta 0:00:01\r\u001b[K     |████████████▎                   | 378kB 2.8MB/s eta 0:00:01\r\u001b[K     |████████████▋                   | 389kB 2.8MB/s eta 0:00:01\r\u001b[K     |█████████████                   | 399kB 2.8MB/s eta 0:00:01\r\u001b[K     |█████████████▎                  | 409kB 2.8MB/s eta 0:00:01\r\u001b[K     |█████████████▋                  | 419kB 2.8MB/s eta 0:00:01\r\u001b[K     |██████████████                  | 430kB 2.8MB/s eta 0:00:01\r\u001b[K     |██████████████▎                 | 440kB 2.8MB/s eta 0:00:01\r\u001b[K     |██████████████▋                 | 450kB 2.8MB/s eta 0:00:01\r\u001b[K     |███████████████                 | 460kB 2.8MB/s eta 0:00:01\r\u001b[K     |███████████████▎                | 471kB 2.8MB/s eta 0:00:01\r\u001b[K     |███████████████▋                | 481kB 2.8MB/s eta 0:00:01\r\u001b[K     |████████████████                | 491kB 2.8MB/s eta 0:00:01\r\u001b[K     |████████████████▎               | 501kB 2.8MB/s eta 0:00:01\r\u001b[K     |████████████████▋               | 512kB 2.8MB/s eta 0:00:01\r\u001b[K     |█████████████████               | 522kB 2.8MB/s eta 0:00:01\r\u001b[K     |█████████████████▎              | 532kB 2.8MB/s eta 0:00:01\r\u001b[K     |█████████████████▋              | 542kB 2.8MB/s eta 0:00:01\r\u001b[K     |██████████████████              | 552kB 2.8MB/s eta 0:00:01\r\u001b[K     |██████████████████▎             | 563kB 2.8MB/s eta 0:00:01\r\u001b[K     |██████████████████▋             | 573kB 2.8MB/s eta 0:00:01\r\u001b[K     |███████████████████             | 583kB 2.8MB/s eta 0:00:01\r\u001b[K     |███████████████████▎            | 593kB 2.8MB/s eta 0:00:01\r\u001b[K     |███████████████████▋            | 604kB 2.8MB/s eta 0:00:01\r\u001b[K     |████████████████████            | 614kB 2.8MB/s eta 0:00:01\r\u001b[K     |████████████████████▎           | 624kB 2.8MB/s eta 0:00:01\r\u001b[K     |████████████████████▋           | 634kB 2.8MB/s eta 0:00:01\r\u001b[K     |█████████████████████           | 645kB 2.8MB/s eta 0:00:01\r\u001b[K     |█████████████████████▎          | 655kB 2.8MB/s eta 0:00:01\r\u001b[K     |█████████████████████▋          | 665kB 2.8MB/s eta 0:00:01\r\u001b[K     |██████████████████████          | 675kB 2.8MB/s eta 0:00:01\r\u001b[K     |██████████████████████▎         | 686kB 2.8MB/s eta 0:00:01\r\u001b[K     |██████████████████████▋         | 696kB 2.8MB/s eta 0:00:01\r\u001b[K     |███████████████████████         | 706kB 2.8MB/s eta 0:00:01\r\u001b[K     |███████████████████████▎        | 716kB 2.8MB/s eta 0:00:01\r\u001b[K     |███████████████████████▋        | 727kB 2.8MB/s eta 0:00:01\r\u001b[K     |████████████████████████        | 737kB 2.8MB/s eta 0:00:01\r\u001b[K     |████████████████████████▎       | 747kB 2.8MB/s eta 0:00:01\r\u001b[K     |████████████████████████▋       | 757kB 2.8MB/s eta 0:00:01\r\u001b[K     |████████████████████████▉       | 768kB 2.8MB/s eta 0:00:01\r\u001b[K     |█████████████████████████▏      | 778kB 2.8MB/s eta 0:00:01\r\u001b[K     |█████████████████████████▌      | 788kB 2.8MB/s eta 0:00:01\r\u001b[K     |█████████████████████████▉      | 798kB 2.8MB/s eta 0:00:01\r\u001b[K     |██████████████████████████▏     | 808kB 2.8MB/s eta 0:00:01\r\u001b[K     |██████████████████████████▌     | 819kB 2.8MB/s eta 0:00:01\r\u001b[K     |██████████████████████████▉     | 829kB 2.8MB/s eta 0:00:01\r\u001b[K     |███████████████████████████▏    | 839kB 2.8MB/s eta 0:00:01\r\u001b[K     |███████████████████████████▌    | 849kB 2.8MB/s eta 0:00:01\r\u001b[K     |███████████████████████████▉    | 860kB 2.8MB/s eta 0:00:01\r\u001b[K     |████████████████████████████▏   | 870kB 2.8MB/s eta 0:00:01\r\u001b[K     |████████████████████████████▌   | 880kB 2.8MB/s eta 0:00:01\r\u001b[K     |████████████████████████████▉   | 890kB 2.8MB/s eta 0:00:01\r\u001b[K     |█████████████████████████████▏  | 901kB 2.8MB/s eta 0:00:01\r\u001b[K     |█████████████████████████████▌  | 911kB 2.8MB/s eta 0:00:01\r\u001b[K     |█████████████████████████████▉  | 921kB 2.8MB/s eta 0:00:01\r\u001b[K     |██████████████████████████████▏ | 931kB 2.8MB/s eta 0:00:01\r\u001b[K     |██████████████████████████████▌ | 942kB 2.8MB/s eta 0:00:01\r\u001b[K     |██████████████████████████████▉ | 952kB 2.8MB/s eta 0:00:01\r\u001b[K     |███████████████████████████████▏| 962kB 2.8MB/s eta 0:00:01\r\u001b[K     |███████████████████████████████▌| 972kB 2.8MB/s eta 0:00:01\r\u001b[K     |███████████████████████████████▉| 983kB 2.8MB/s eta 0:00:01\r\u001b[K     |████████████████████████████████| 993kB 2.8MB/s \n",
            "\u001b[?25h  Building wheel for PyDrive (setup.py) ... \u001b[?25l\u001b[?25hdone\n"
          ],
          "name": "stdout"
        }
      ]
    },
    {
      "cell_type": "code",
      "metadata": {
        "id": "Uuvd9uLZbbuL",
        "colab_type": "code",
        "colab": {}
      },
      "source": [
        "#2. Get the file\n",
        "\n",
        "downloaded = drive.CreateFile({'id':'1lJa1QGnAott4B1bMfao_KCdcboeEjrEC'}) \n",
        "downloaded.GetContentFile('music_sales.csv')"
      ],
      "execution_count": 0,
      "outputs": []
    },
    {
      "cell_type": "markdown",
      "metadata": {
        "id": "vK5Nb0jhbunM",
        "colab_type": "text"
      },
      "source": [
        "Loading of the Data"
      ]
    },
    {
      "cell_type": "code",
      "metadata": {
        "id": "p1pnP-mobt8o",
        "colab_type": "code",
        "colab": {}
      },
      "source": [
        "df = pd.read_csv('data.csv')\n",
        "df.head()"
      ],
      "execution_count": 0,
      "outputs": []
    },
    {
      "cell_type": "markdown",
      "metadata": {
        "id": "cowwVM34eh-x",
        "colab_type": "text"
      },
      "source": [
        "#Histogram\n",
        "\n",
        "A histogram is a graphical display of data using bars of different heights. In a histogram, each bar groups numbers into ranges. Taller bars show that more data falls in that range. A histogram displays the shape and spread of continuous sample data."
      ]
    },
    {
      "cell_type": "code",
      "metadata": {
        "id": "zl91mni8eXmO",
        "colab_type": "code",
        "colab": {}
      },
      "source": [
        "hist_data = df['column1']\n",
        "plt.hist(hist_data)"
      ],
      "execution_count": 0,
      "outputs": []
    },
    {
      "cell_type": "markdown",
      "metadata": {
        "id": "rzlMy9APe6-V",
        "colab_type": "text"
      },
      "source": [
        "#Box Plot\n",
        "\n",
        "A box plot is a graphical rendition of statistical data based on the minimum, first quartile, median, third quartile, and maximum. The term \"box plot\" comes from the fact that the graph looks like a rectangle with lines extending from the top and bottom."
      ]
    },
    {
      "cell_type": "code",
      "metadata": {
        "id": "GQOxME62fLUr",
        "colab_type": "code",
        "colab": {}
      },
      "source": [
        "sns.boxplot(data=df)"
      ],
      "execution_count": 0,
      "outputs": []
    },
    {
      "cell_type": "markdown",
      "metadata": {
        "id": "uNdwSy9lfQZ0",
        "colab_type": "text"
      },
      "source": [
        "# Bar Plot\n",
        "\n",
        "A barplot (or barchart) is one of the most common types of graphic. It shows the relationship between a numeric and a categoric variable. Each entity of the categoric variable is represented as a bar. The size of the bar represents its numeric value."
      ]
    },
    {
      "cell_type": "code",
      "metadata": {
        "id": "90v3jIIFfdmC",
        "colab_type": "code",
        "colab": {}
      },
      "source": [
        "fig, ax = plt.subplots(figsize=(10,10))\n",
        "ax = fig.gca()\n",
        "sns.barplot(y='col1', x='col2', data = df, ax = ax)"
      ],
      "execution_count": 0,
      "outputs": []
    },
    {
      "cell_type": "markdown",
      "metadata": {
        "id": "USoZ42XCg7Jq",
        "colab_type": "text"
      },
      "source": [
        "#Pair Plot\n",
        "\n",
        "Pair plot is used to understand the best set of features to explain a relationship between two variables or to form the most separated clusters. It also helps to form some simple classification models by drawing some simple lines or make linear separation in our dataset."
      ]
    },
    {
      "cell_type": "code",
      "metadata": {
        "id": "v23Il3zZhZhR",
        "colab_type": "code",
        "colab": {}
      },
      "source": [
        "sns.pairplot(df, hue=\"col1\", size=2)"
      ],
      "execution_count": 0,
      "outputs": []
    },
    {
      "cell_type": "markdown",
      "metadata": {
        "id": "TJ1tyv0_hf65",
        "colab_type": "text"
      },
      "source": [
        "#HeatMap\n",
        "\n",
        "A heat map (or heatmap) is a graphical representation of data where the individual values contained in a matrix are represented as colors. \"Heat map\" is a newer term but shading matrices have existed for over a century."
      ]
    },
    {
      "cell_type": "code",
      "metadata": {
        "id": "rtBm97dNhvwt",
        "colab_type": "code",
        "colab": {}
      },
      "source": [
        "#Correlation Matrix\n",
        "corr_mat = df.corr()\n",
        "\n",
        "sns.heatmap(corr_mat)"
      ],
      "execution_count": 0,
      "outputs": []
    },
    {
      "cell_type": "markdown",
      "metadata": {
        "id": "oX9S4uEfiAAh",
        "colab_type": "text"
      },
      "source": [
        "#Violin Plot\n",
        "\n",
        "A violin plot is a method of plotting numeric data. It is similar to a box plot, with the addition of a rotated kernel density plot on each side. Violin plots are similar to box plots, except that they also show the probability density of the data at different values, usually smoothed by a kernel density estimator."
      ]
    },
    {
      "cell_type": "code",
      "metadata": {
        "id": "4IYJGuKpiM2W",
        "colab_type": "code",
        "colab": {}
      },
      "source": [
        "sns.violinplot(x='col1', y='col2', data = df)"
      ],
      "execution_count": 0,
      "outputs": []
    },
    {
      "cell_type": "markdown",
      "metadata": {
        "id": "hj3gJWoIiVbL",
        "colab_type": "text"
      },
      "source": [
        "#LMPlot & Regplot\n",
        "\n",
        "Two main functions in seaborn are used to visualize a linear relationship as determined through regression. These functions, regplot() and lmplot() are closely related, and share much of their core functionality. It is important to understand the ways they differ, however, so that you can quickly choose the correct tool for particular job."
      ]
    },
    {
      "cell_type": "code",
      "metadata": {
        "id": "xepNs_tuizHy",
        "colab_type": "code",
        "colab": {}
      },
      "source": [
        "#lmplot\n",
        "sns.lmplot(x=\"col1\",y=\"col2\",hue=\"col3\",data=df)\n",
        "\n",
        "#regplot\n",
        "sns.regplot(x=\"cal1\", y=\"col2\", data=df)"
      ],
      "execution_count": 0,
      "outputs": []
    },
    {
      "cell_type": "markdown",
      "metadata": {
        "id": "bbH4MqwnjK1E",
        "colab_type": "text"
      },
      "source": [
        "#Count Plot\n",
        "\n",
        "A count plot can be thought of as a histogram across a categorical, instead of quantitative, variable. The basic API and options are identical to those for barplot() , so you can compare counts across nested variables."
      ]
    },
    {
      "cell_type": "code",
      "metadata": {
        "id": "P22MFCXcjWXE",
        "colab_type": "code",
        "colab": {}
      },
      "source": [
        "sns.countplot(data = df, y='col1')"
      ],
      "execution_count": 0,
      "outputs": []
    },
    {
      "cell_type": "markdown",
      "metadata": {
        "id": "r7980NbsjoYL",
        "colab_type": "text"
      },
      "source": [
        "#Stacked Bar Chart\n",
        "\n",
        "A stacked bar graph (or stacked bar chart) is a chart that uses bars to show comparisons between categories of data, but with ability to break down and compare parts of a whole. Each bar in the chart represents a whole, and segments in the bar represent different parts or categories of that whole.\n",
        "\n"
      ]
    },
    {
      "cell_type": "code",
      "metadata": {
        "id": "CZqmqk4cjn1t",
        "colab_type": "code",
        "colab": {}
      },
      "source": [
        "ax = df.plot.barh(stacked=True, figsize=(15, 10), cmap=plt.cm.get_cmap('tab20c'))\n",
        "for p in ax.patches:\n",
        "    width, height = p.get_width(), p.get_height()\n",
        "    if width > 0:\n",
        "        ax.annotate(f'{width:.0f}', (p.get_x()+0.40*width,\n",
        "                                     p.get_y()+.17*height), color='black', fontsize=10)\n",
        "plt.title('Title', size=20)\n",
        "plt.xlabel('X-label')\n",
        "plt.tight_layout()"
      ],
      "execution_count": 0,
      "outputs": []
    },
    {
      "cell_type": "markdown",
      "metadata": {
        "id": "Lz4nMXwWj5XK",
        "colab_type": "text"
      },
      "source": [
        "#Strip Plot\n",
        "\n",
        "A strip plot is a graphical data anlysis technique for summarizing a univariate data set. The strip plot consists of: Horizontal axis = the value of the response variable."
      ]
    },
    {
      "cell_type": "code",
      "metadata": {
        "id": "Z7JsD1Xcj4u-",
        "colab_type": "code",
        "colab": {}
      },
      "source": [
        "sns.stripplot(x= df[\"col1\"])"
      ],
      "execution_count": 0,
      "outputs": []
    },
    {
      "cell_type": "markdown",
      "metadata": {
        "id": "IZUZyfwGky3-",
        "colab_type": "text"
      },
      "source": [
        "#Pie Chart\n",
        "\n",
        "A Pie Chart (or Pie Graph) is a special chart that uses \"pie slices\" to show relative sizes of data. The chart is divided into sectors, where each sector shows the relative size of each value."
      ]
    },
    {
      "cell_type": "code",
      "metadata": {
        "id": "YsQBQX2mk-9M",
        "colab_type": "code",
        "colab": {}
      },
      "source": [
        "plt.figure(figsize=(10,8))\n",
        "plt.pie(df['col1'].value_counts(), labels =[\"a\",\"b\",\"c\"], explode=[0.1,0.1,0.1],autopct='%1.1f%%',shadow=True)\n",
        "plt.show();"
      ],
      "execution_count": 0,
      "outputs": []
    },
    {
      "cell_type": "markdown",
      "metadata": {
        "id": "I3jFt-nFf-pW",
        "colab_type": "text"
      },
      "source": [
        "# Treemap\n",
        "\n",
        "Treemaps are an alternative way of visualising the hierarchical structure of a Tree Diagram while also displaying quantities for each category via area size. Each category is assigned a rectangle area with their subcategory rectangles nested inside of it."
      ]
    },
    {
      "cell_type": "code",
      "metadata": {
        "id": "lpk22bYggKMh",
        "colab_type": "code",
        "colab": {}
      },
      "source": [
        "import plotly.plotly as py\n",
        "import plotly.graph_objs as go\n",
        "\n",
        "import squarify\n",
        "\n",
        "x = 0.\n",
        "y = 0.\n",
        "width = 100.\n",
        "height = 100.\n",
        "\n",
        "values = [500, 433, 78, 25, 25, 7]\n",
        "\n",
        "normed = squarify.normalize_sizes(values, width, height)\n",
        "rects = squarify.squarify(normed, x, y, width, height)\n",
        "\n",
        "# Choose colors from http://colorbrewer2.org/ under \"Export\"\n",
        "color_brewer = ['rgb(166,206,227)','rgb(31,120,180)','rgb(178,223,138)',\n",
        "                'rgb(51,160,44)','rgb(251,154,153)','rgb(227,26,28)']\n",
        "shapes = []\n",
        "annotations = []\n",
        "counter = 0\n",
        "\n",
        "for r in rects:\n",
        "    shapes.append( \n",
        "        dict(\n",
        "            type = 'rect', \n",
        "            x0 = r['x'], \n",
        "            y0 = r['y'], \n",
        "            x1 = r['x']+r['dx'], \n",
        "            y1 = r['y']+r['dy'],\n",
        "            line = dict( width = 2 ),\n",
        "            fillcolor = color_brewer[counter]\n",
        "        ) \n",
        "    )\n",
        "    annotations.append(\n",
        "        dict(\n",
        "            x = r['x']+(r['dx']/2),\n",
        "            y = r['y']+(r['dy']/2),\n",
        "            text = values[counter],\n",
        "            showarrow = False\n",
        "        )\n",
        "    )\n",
        "    counter = counter + 1\n",
        "    if counter >= len(color_brewer):\n",
        "        counter = 0\n",
        "\n",
        "# For hover text\n",
        "trace0 = go.Scatter(\n",
        "    x = [ r['x']+(r['dx']/2) for r in rects ], \n",
        "    y = [ r['y']+(r['dy']/2) for r in rects ],\n",
        "    text = [ str(v) for v in values ], \n",
        "    mode = 'text',\n",
        ")\n",
        "        \n",
        "layout = dict(\n",
        "    height=700, \n",
        "    width=700,\n",
        "    xaxis=dict(showgrid=False,zeroline=False),\n",
        "    yaxis=dict(showgrid=False,zeroline=False),\n",
        "    shapes=shapes,\n",
        "    annotations=annotations,\n",
        "    hovermode='closest'\n",
        ")\n",
        "\n",
        "# With hovertext\n",
        "figure = dict(data=[trace0], layout=layout)\n",
        "\n",
        "# Without hovertext\n",
        "# figure = dict(data=[Scatter()], layout=layout)\n",
        "\n",
        "py.iplot(figure, filename='squarify-treemap')"
      ],
      "execution_count": 0,
      "outputs": []
    }
  ]
}